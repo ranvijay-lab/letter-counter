{
 "cells": [
  {
   "cell_type": "markdown",
   "metadata": {},
   "source": [
    "# letter counter \n",
    "### this will count the number of a specific letter in a word\n",
    "\n"
   ]
  },
  {
   "cell_type": "code",
   "execution_count": 10,
   "metadata": {},
   "outputs": [
    {
     "name": "stdout",
     "output_type": "stream",
     "text": [
      "Write your word here:  food\n",
      "Write your letter here:o\n",
      "o is 2 times in food\n"
     ]
    }
   ],
   "source": [
    "word   = input('Write your word here:  ')\n",
    "go     = input('Write your letter here:')\n",
    "\n",
    "x=0\n",
    "z=go \n",
    "\n",
    "for z in word:\n",
    "    if z==go:\n",
    "        x=x+1\n",
    "    \n",
    "print(go,'is',x,'times in',word)\n"
   ]
  }
 ],
 "metadata": {
  "kernelspec": {
   "display_name": "Python 3",
   "language": "python",
   "name": "python3"
  },
  "language_info": {
   "codemirror_mode": {
    "name": "ipython",
    "version": 3
   },
   "file_extension": ".py",
   "mimetype": "text/x-python",
   "name": "python",
   "nbconvert_exporter": "python",
   "pygments_lexer": "ipython3",
   "version": "3.8.3"
  }
 },
 "nbformat": 4,
 "nbformat_minor": 4
}
